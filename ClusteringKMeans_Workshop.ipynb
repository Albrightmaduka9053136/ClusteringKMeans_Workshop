{
 "cells": [
  {
   "cell_type": "markdown",
   "id": "aa2a5c0a",
   "metadata": {},
   "source": [
    "Name: Albright Maduka Ifechukwude\n",
    "\n",
    "Student Id: 9053136\n",
    "\n",
    "Course code: PROG8431"
   ]
  },
  {
   "cell_type": "markdown",
   "id": "d02dc8cf",
   "metadata": {},
   "source": [
    "Project Context: Nitrogen vs Soil pH (Canada Agriculture)\n",
    "\n",
    "Course: Data Analysis Mathematics and Algorithm Model"
   ]
  },
  {
   "cell_type": "markdown",
   "id": "12e02826",
   "metadata": {},
   "source": [
    "1. Setup & Config"
   ]
  },
  {
   "cell_type": "code",
   "execution_count": 75,
   "id": "077bfcdd",
   "metadata": {},
   "outputs": [
    {
     "name": "stdout",
     "output_type": "stream",
     "text": [
      "{'python': '3.13.9', 'platform': 'Windows 11', 'pandas': '2.3.3', 'numpy': '2.3.4', 'matplotlib': '3.10.7'}\n"
     ]
    }
   ],
   "source": [
    "from __future__ import annotations\n",
    "import re, sys, platform, os\n",
    "from dataclasses import dataclass, field\n",
    "from typing import Optional, Tuple, Iterable, List, Dict\n",
    "\n",
    "import numpy as np\n",
    "import pandas as pd\n",
    "import matplotlib as mpl\n",
    "import matplotlib.pyplot as plt\n",
    "\n",
    "from sklearn.preprocessing import StandardScaler\n",
    "from sklearn.cluster import KMeans\n",
    "from sklearn.metrics import silhouette_score\n",
    "\n",
    "try:\n",
    "    from IPython.display import display\n",
    "except Exception:\n",
    "    display = print\n",
    "\n",
    "# ---------- 0) Setup / environment ----------\n",
    "print({\n",
    "    \"python\": sys.version.split()[0],\n",
    "    \"platform\": f\"{platform.system()} {platform.release()}\",\n",
    "    \"pandas\": pd.__version__,\n",
    "    \"numpy\": np.__version__,\n",
    "    \"matplotlib\": mpl.__version__,\n",
    "})"
   ]
  },
  {
   "cell_type": "markdown",
   "id": "401adfc0",
   "metadata": {},
   "source": [
    "2. Data Path"
   ]
  },
  {
   "cell_type": "code",
   "execution_count": 76,
   "id": "99e319fd",
   "metadata": {},
   "outputs": [
    {
     "name": "stdout",
     "output_type": "stream",
     "text": [
      "Found data file: Data\\Soil Nutrients.csv\n"
     ]
    }
   ],
   "source": [
    "# --- constants & paths ---\n",
    "DATA_SOURCE = os.path.join(\"Data\", \"Soil Nutrients.csv\")  # use os.path.join for cross-platform compatibility\n",
    "SAVE_DIR = \"artifacts\"\n",
    "os.makedirs(SAVE_DIR, exist_ok=True)\n",
    "\n",
    "# Verify the file exists\n",
    "if not os.path.exists(DATA_SOURCE):\n",
    "    print(f\"Warning: {DATA_SOURCE} not found!\")\n",
    "else:\n",
    "    print(f\"Found data file: {DATA_SOURCE}\")"
   ]
  },
  {
   "cell_type": "markdown",
   "id": "a6f90329",
   "metadata": {},
   "source": [
    "3. Object-oriented; cleaning, standardization, K-Means, EDA, summaries "
   ]
  },
  {
   "cell_type": "code",
   "execution_count": 74,
   "id": "f6726312",
   "metadata": {},
   "outputs": [
    {
     "name": "stdout",
     "output_type": "stream",
     "text": [
      "Loaded: Data/Soil Nutrients.csv | rows=15400 | cols=['Name', 'Fertility', 'Photoperiod', 'Temperature', 'Rainfall', 'pH', 'Light_Hours', 'Light_Intensity', 'Rh', 'Nitrogen', 'Phosphorus', 'Potassium', 'Yield', 'Category_pH', 'Soil_Type', 'Season', 'N_Ratio', 'P_Ratio', 'K_Ratio']\n"
     ]
    },
    {
     "data": {
      "application/vnd.microsoft.datawrangler.viewer.v0+json": {
       "columns": [
        {
         "name": "index",
         "rawType": "int64",
         "type": "integer"
        },
        {
         "name": "Name",
         "rawType": "object",
         "type": "string"
        },
        {
         "name": "Fertility",
         "rawType": "object",
         "type": "string"
        },
        {
         "name": "Photoperiod",
         "rawType": "object",
         "type": "string"
        },
        {
         "name": "Temperature",
         "rawType": "float64",
         "type": "float"
        },
        {
         "name": "Rainfall",
         "rawType": "float64",
         "type": "float"
        },
        {
         "name": "pH",
         "rawType": "float64",
         "type": "float"
        },
        {
         "name": "Light_Hours",
         "rawType": "float64",
         "type": "float"
        },
        {
         "name": "Light_Intensity",
         "rawType": "float64",
         "type": "float"
        },
        {
         "name": "Rh",
         "rawType": "float64",
         "type": "float"
        },
        {
         "name": "Nitrogen",
         "rawType": "float64",
         "type": "float"
        },
        {
         "name": "Phosphorus",
         "rawType": "float64",
         "type": "float"
        },
        {
         "name": "Potassium",
         "rawType": "float64",
         "type": "float"
        },
        {
         "name": "Yield",
         "rawType": "float64",
         "type": "float"
        },
        {
         "name": "Category_pH",
         "rawType": "object",
         "type": "string"
        },
        {
         "name": "Soil_Type",
         "rawType": "object",
         "type": "string"
        },
        {
         "name": "Season",
         "rawType": "object",
         "type": "string"
        },
        {
         "name": "N_Ratio",
         "rawType": "float64",
         "type": "float"
        },
        {
         "name": "P_Ratio",
         "rawType": "float64",
         "type": "float"
        },
        {
         "name": "K_Ratio",
         "rawType": "float64",
         "type": "float"
        }
       ],
       "ref": "12cf4bfb-bbec-49b3-b7a7-e0effcc66f8e",
       "rows": [
        [
         "0",
         "Strawberry",
         "Moderate",
         "Day Neutral",
         "20.8879227807292",
         "747.86076492044",
         "6.57154752468899",
         "13.0914833109563",
         "533.762875715672",
         "91.1971962422373",
         "170.800381404677",
         "118.670057980644",
         "243.331210634148",
         "20.3695546169975",
         "low_acidic",
         "Loam",
         "Summer",
         "10.0",
         "10.0",
         "10.0"
        ],
        [
         "1",
         "Strawberry",
         "Moderate",
         "Day Neutral",
         "18.0627208763042",
         "711.104328780634",
         "6.25180620369805",
         "13.063015951482",
         "505.789101494269",
         "91.9396233984674",
         "179.290363887292",
         "121.020244350895",
         "246.910377557939",
         "20.4027509271319",
         "low_acidic",
         "Loam",
         "Spring",
         "10.0",
         "10.0",
         "10.0"
        ],
        [
         "2",
         "Strawberry",
         "Moderate",
         "Short Day Period",
         "16.7767822552963",
         "774.038246785553",
         "6.3469156727565",
         "12.9459268199875",
         "512.985616582096",
         "91.3872855759477",
         "181.44073227001",
         "116.936805538119",
         "242.699600700321",
         "19.158846788402",
         "low_acidic",
         "Loam",
         "Summer",
         "10.0",
         "10.0",
         "10.0"
        ],
        [
         "3",
         "Strawberry",
         "Moderate",
         "Short Day Period",
         "14.2809997525734",
         "665.633505666814",
         "6.25959848479199",
         "13.3189220696776",
         "484.860066810283",
         "91.2545975077002",
         "176.165281844706",
         "122.233153458625",
         "237.096892442197",
         "20.265745094281",
         "low_acidic",
         "Loam",
         "Summer",
         "10.0",
         "10.0",
         "10.0"
        ],
        [
         "4",
         "Strawberry",
         "Moderate",
         "Day Neutral",
         "21.4444904512977",
         "806.531454859021",
         "6.3843678378872",
         "13.3129150481162",
         "512.747307023423",
         "92.3548292065441",
         "182.935333974271",
         "126.088233928844",
         "243.880363647392",
         "20.3973359855375",
         "low_acidic",
         "Loam",
         "Spring",
         "10.0",
         "10.0",
         "10.0"
        ]
       ],
       "shape": {
        "columns": 19,
        "rows": 5
       }
      },
      "text/html": [
       "<div>\n",
       "<style scoped>\n",
       "    .dataframe tbody tr th:only-of-type {\n",
       "        vertical-align: middle;\n",
       "    }\n",
       "\n",
       "    .dataframe tbody tr th {\n",
       "        vertical-align: top;\n",
       "    }\n",
       "\n",
       "    .dataframe thead th {\n",
       "        text-align: right;\n",
       "    }\n",
       "</style>\n",
       "<table border=\"1\" class=\"dataframe\">\n",
       "  <thead>\n",
       "    <tr style=\"text-align: right;\">\n",
       "      <th></th>\n",
       "      <th>Name</th>\n",
       "      <th>Fertility</th>\n",
       "      <th>Photoperiod</th>\n",
       "      <th>Temperature</th>\n",
       "      <th>Rainfall</th>\n",
       "      <th>pH</th>\n",
       "      <th>Light_Hours</th>\n",
       "      <th>Light_Intensity</th>\n",
       "      <th>Rh</th>\n",
       "      <th>Nitrogen</th>\n",
       "      <th>Phosphorus</th>\n",
       "      <th>Potassium</th>\n",
       "      <th>Yield</th>\n",
       "      <th>Category_pH</th>\n",
       "      <th>Soil_Type</th>\n",
       "      <th>Season</th>\n",
       "      <th>N_Ratio</th>\n",
       "      <th>P_Ratio</th>\n",
       "      <th>K_Ratio</th>\n",
       "    </tr>\n",
       "  </thead>\n",
       "  <tbody>\n",
       "    <tr>\n",
       "      <th>0</th>\n",
       "      <td>Strawberry</td>\n",
       "      <td>Moderate</td>\n",
       "      <td>Day Neutral</td>\n",
       "      <td>20.887923</td>\n",
       "      <td>747.860765</td>\n",
       "      <td>6.571548</td>\n",
       "      <td>13.091483</td>\n",
       "      <td>533.762876</td>\n",
       "      <td>91.197196</td>\n",
       "      <td>170.800381</td>\n",
       "      <td>118.670058</td>\n",
       "      <td>243.331211</td>\n",
       "      <td>20.369555</td>\n",
       "      <td>low_acidic</td>\n",
       "      <td>Loam</td>\n",
       "      <td>Summer</td>\n",
       "      <td>10.0</td>\n",
       "      <td>10.0</td>\n",
       "      <td>10.0</td>\n",
       "    </tr>\n",
       "    <tr>\n",
       "      <th>1</th>\n",
       "      <td>Strawberry</td>\n",
       "      <td>Moderate</td>\n",
       "      <td>Day Neutral</td>\n",
       "      <td>18.062721</td>\n",
       "      <td>711.104329</td>\n",
       "      <td>6.251806</td>\n",
       "      <td>13.063016</td>\n",
       "      <td>505.789101</td>\n",
       "      <td>91.939623</td>\n",
       "      <td>179.290364</td>\n",
       "      <td>121.020244</td>\n",
       "      <td>246.910378</td>\n",
       "      <td>20.402751</td>\n",
       "      <td>low_acidic</td>\n",
       "      <td>Loam</td>\n",
       "      <td>Spring</td>\n",
       "      <td>10.0</td>\n",
       "      <td>10.0</td>\n",
       "      <td>10.0</td>\n",
       "    </tr>\n",
       "    <tr>\n",
       "      <th>2</th>\n",
       "      <td>Strawberry</td>\n",
       "      <td>Moderate</td>\n",
       "      <td>Short Day Period</td>\n",
       "      <td>16.776782</td>\n",
       "      <td>774.038247</td>\n",
       "      <td>6.346916</td>\n",
       "      <td>12.945927</td>\n",
       "      <td>512.985617</td>\n",
       "      <td>91.387286</td>\n",
       "      <td>181.440732</td>\n",
       "      <td>116.936806</td>\n",
       "      <td>242.699601</td>\n",
       "      <td>19.158847</td>\n",
       "      <td>low_acidic</td>\n",
       "      <td>Loam</td>\n",
       "      <td>Summer</td>\n",
       "      <td>10.0</td>\n",
       "      <td>10.0</td>\n",
       "      <td>10.0</td>\n",
       "    </tr>\n",
       "    <tr>\n",
       "      <th>3</th>\n",
       "      <td>Strawberry</td>\n",
       "      <td>Moderate</td>\n",
       "      <td>Short Day Period</td>\n",
       "      <td>14.281000</td>\n",
       "      <td>665.633506</td>\n",
       "      <td>6.259598</td>\n",
       "      <td>13.318922</td>\n",
       "      <td>484.860067</td>\n",
       "      <td>91.254598</td>\n",
       "      <td>176.165282</td>\n",
       "      <td>122.233153</td>\n",
       "      <td>237.096892</td>\n",
       "      <td>20.265745</td>\n",
       "      <td>low_acidic</td>\n",
       "      <td>Loam</td>\n",
       "      <td>Summer</td>\n",
       "      <td>10.0</td>\n",
       "      <td>10.0</td>\n",
       "      <td>10.0</td>\n",
       "    </tr>\n",
       "    <tr>\n",
       "      <th>4</th>\n",
       "      <td>Strawberry</td>\n",
       "      <td>Moderate</td>\n",
       "      <td>Day Neutral</td>\n",
       "      <td>21.444490</td>\n",
       "      <td>806.531455</td>\n",
       "      <td>6.384368</td>\n",
       "      <td>13.312915</td>\n",
       "      <td>512.747307</td>\n",
       "      <td>92.354829</td>\n",
       "      <td>182.935334</td>\n",
       "      <td>126.088234</td>\n",
       "      <td>243.880364</td>\n",
       "      <td>20.397336</td>\n",
       "      <td>low_acidic</td>\n",
       "      <td>Loam</td>\n",
       "      <td>Spring</td>\n",
       "      <td>10.0</td>\n",
       "      <td>10.0</td>\n",
       "      <td>10.0</td>\n",
       "    </tr>\n",
       "  </tbody>\n",
       "</table>\n",
       "</div>"
      ],
      "text/plain": [
       "         Name Fertility       Photoperiod  Temperature    Rainfall        pH  \\\n",
       "0  Strawberry  Moderate       Day Neutral    20.887923  747.860765  6.571548   \n",
       "1  Strawberry  Moderate       Day Neutral    18.062721  711.104329  6.251806   \n",
       "2  Strawberry  Moderate  Short Day Period    16.776782  774.038247  6.346916   \n",
       "3  Strawberry  Moderate  Short Day Period    14.281000  665.633506  6.259598   \n",
       "4  Strawberry  Moderate       Day Neutral    21.444490  806.531455  6.384368   \n",
       "\n",
       "   Light_Hours  Light_Intensity         Rh    Nitrogen  Phosphorus  \\\n",
       "0    13.091483       533.762876  91.197196  170.800381  118.670058   \n",
       "1    13.063016       505.789101  91.939623  179.290364  121.020244   \n",
       "2    12.945927       512.985617  91.387286  181.440732  116.936806   \n",
       "3    13.318922       484.860067  91.254598  176.165282  122.233153   \n",
       "4    13.312915       512.747307  92.354829  182.935334  126.088234   \n",
       "\n",
       "    Potassium      Yield Category_pH Soil_Type  Season  N_Ratio  P_Ratio  \\\n",
       "0  243.331211  20.369555  low_acidic      Loam  Summer     10.0     10.0   \n",
       "1  246.910378  20.402751  low_acidic      Loam  Spring     10.0     10.0   \n",
       "2  242.699601  19.158847  low_acidic      Loam  Summer     10.0     10.0   \n",
       "3  237.096892  20.265745  low_acidic      Loam  Summer     10.0     10.0   \n",
       "4  243.880364  20.397336  low_acidic      Loam  Spring     10.0     10.0   \n",
       "\n",
       "   K_Ratio  \n",
       "0     10.0  \n",
       "1     10.0  \n",
       "2     10.0  \n",
       "3     10.0  \n",
       "4     10.0  "
      ]
     },
     "metadata": {},
     "output_type": "display_data"
    },
    {
     "name": "stdout",
     "output_type": "stream",
     "text": [
      "Cleaned data summary:\n"
     ]
    },
    {
     "data": {
      "application/vnd.microsoft.datawrangler.viewer.v0+json": {
       "columns": [
        {
         "name": "index",
         "rawType": "object",
         "type": "string"
        },
        {
         "name": "N",
         "rawType": "float64",
         "type": "float"
        },
        {
         "name": "Ph",
         "rawType": "float64",
         "type": "float"
        }
       ],
       "ref": "0efe202c-04ec-4efc-b4b7-25f2f9472216",
       "rows": [
        [
         "count",
         "14348.0",
         "14348.0"
        ],
        [
         "mean",
         "130.9237828600551",
         "6.509152030893664"
        ],
        [
         "std",
         "36.08722463508493",
         "0.43487804759240695"
        ],
        [
         "min",
         "41.7255523602251",
         "4.88887063325677"
        ],
        [
         "25%",
         "114.79203143771299",
         "6.289841867118005"
        ],
        [
         "50%",
         "138.627312928935",
         "6.489386851820675"
        ],
        [
         "75%",
         "154.42423195944673",
         "6.72093618770532"
        ],
        [
         "max",
         "199.858890022031",
         "8.02321047970045"
        ]
       ],
       "shape": {
        "columns": 2,
        "rows": 8
       }
      },
      "text/html": [
       "<div>\n",
       "<style scoped>\n",
       "    .dataframe tbody tr th:only-of-type {\n",
       "        vertical-align: middle;\n",
       "    }\n",
       "\n",
       "    .dataframe tbody tr th {\n",
       "        vertical-align: top;\n",
       "    }\n",
       "\n",
       "    .dataframe thead th {\n",
       "        text-align: right;\n",
       "    }\n",
       "</style>\n",
       "<table border=\"1\" class=\"dataframe\">\n",
       "  <thead>\n",
       "    <tr style=\"text-align: right;\">\n",
       "      <th></th>\n",
       "      <th>N</th>\n",
       "      <th>Ph</th>\n",
       "    </tr>\n",
       "  </thead>\n",
       "  <tbody>\n",
       "    <tr>\n",
       "      <th>count</th>\n",
       "      <td>14348.000000</td>\n",
       "      <td>14348.000000</td>\n",
       "    </tr>\n",
       "    <tr>\n",
       "      <th>mean</th>\n",
       "      <td>130.923783</td>\n",
       "      <td>6.509152</td>\n",
       "    </tr>\n",
       "    <tr>\n",
       "      <th>std</th>\n",
       "      <td>36.087225</td>\n",
       "      <td>0.434878</td>\n",
       "    </tr>\n",
       "    <tr>\n",
       "      <th>min</th>\n",
       "      <td>41.725552</td>\n",
       "      <td>4.888871</td>\n",
       "    </tr>\n",
       "    <tr>\n",
       "      <th>25%</th>\n",
       "      <td>114.792031</td>\n",
       "      <td>6.289842</td>\n",
       "    </tr>\n",
       "    <tr>\n",
       "      <th>50%</th>\n",
       "      <td>138.627313</td>\n",
       "      <td>6.489387</td>\n",
       "    </tr>\n",
       "    <tr>\n",
       "      <th>75%</th>\n",
       "      <td>154.424232</td>\n",
       "      <td>6.720936</td>\n",
       "    </tr>\n",
       "    <tr>\n",
       "      <th>max</th>\n",
       "      <td>199.858890</td>\n",
       "      <td>8.023210</td>\n",
       "    </tr>\n",
       "  </tbody>\n",
       "</table>\n",
       "</div>"
      ],
      "text/plain": [
       "                  N            Ph\n",
       "count  14348.000000  14348.000000\n",
       "mean     130.923783      6.509152\n",
       "std       36.087225      0.434878\n",
       "min       41.725552      4.888871\n",
       "25%      114.792031      6.289842\n",
       "50%      138.627313      6.489387\n",
       "75%      154.424232      6.720936\n",
       "max      199.858890      8.023210"
      ]
     },
     "metadata": {},
     "output_type": "display_data"
    },
    {
     "data": {
      "image/png": "[encoded data removed]",
      "text/plain": [
       "<Figure size 640x480 with 1 Axes>"
      ]
     },
     "metadata": {},
     "output_type": "display_data"
    },
    {
     "name": "stderr",
     "output_type": "stream",
     "text": [
      "C:\\Users\\maduk\\AppData\\Local\\Temp\\ipykernel_22500\\2615183354.py:87: MatplotlibDeprecationWarning: The 'labels' parameter of boxplot() has been renamed 'tick_labels' since Matplotlib 3.9; support for the old name will be dropped in 3.11.\n",
      "  plt.boxplot(self.df2[col], labels=[col])\n"
     ]
    },
    {
     "data": {
      "image/png": "[encoded data removed]",
      "text/plain": [
       "<Figure size 640x480 with 1 Axes>"
      ]
     },
     "metadata": {},
     "output_type": "display_data"
    },
    {
     "data": {
      "image/png": "[encoded data removed]",
      "text/plain": [
       "<Figure size 640x480 with 1 Axes>"
      ]
     },
     "metadata": {},
     "output_type": "display_data"
    },
    {
     "name": "stderr",
     "output_type": "stream",
     "text": [
      "C:\\Users\\maduk\\AppData\\Local\\Temp\\ipykernel_22500\\2615183354.py:87: MatplotlibDeprecationWarning: The 'labels' parameter of boxplot() has been renamed 'tick_labels' since Matplotlib 3.9; support for the old name will be dropped in 3.11.\n",
      "  plt.boxplot(self.df2[col], labels=[col])\n"
     ]
    },
    {
     "data": {
      "image/png": "[encoded data removed]",
      "text/plain": [
       "<Figure size 640x480 with 1 Axes>"
      ]
     },
     "metadata": {},
     "output_type": "display_data"
    },
    {
     "name": "stdout",
     "output_type": "stream",
     "text": [
      "Best k (silhouette): 6\n"
     ]
    },
    {
     "data": {
      "image/png": "[encoded data removed]",
      "text/plain": [
       "<Figure size 1000x400 with 2 Axes>"
      ]
     },
     "metadata": {},
     "output_type": "display_data"
    },
    {
     "name": "stdout",
     "output_type": "stream",
     "text": [
      "Cluster centers (original units):\n"
     ]
    },
    {
     "data": {
      "application/vnd.microsoft.datawrangler.viewer.v0+json": {
       "columns": [
        {
         "name": "index",
         "rawType": "int64",
         "type": "integer"
        },
        {
         "name": "N_center",
         "rawType": "float64",
         "type": "float"
        },
        {
         "name": "Ph_center",
         "rawType": "float64",
         "type": "float"
        }
       ],
       "ref": "2f9f3bf8-a41c-44ae-8f5e-a68867562543",
       "rows": [
        [
         "0",
         "152.02006990572733",
         "6.326306322450829"
        ],
        [
         "1",
         "100.74653682340016",
         "6.471237511996168"
        ],
        [
         "2",
         "133.31168763810615",
         "6.730542176651883"
        ],
        [
         "3",
         "170.18510435709948",
         "5.711607888394684"
        ],
        [
         "4",
         "156.40445660367692",
         "7.450660577474893"
        ],
        [
         "5",
         "50.82969212927895",
         "6.965429929039022"
        ]
       ],
       "shape": {
        "columns": 2,
        "rows": 6
       }
      },
      "text/html": [
       "<div>\n",
       "<style scoped>\n",
       "    .dataframe tbody tr th:only-of-type {\n",
       "        vertical-align: middle;\n",
       "    }\n",
       "\n",
       "    .dataframe tbody tr th {\n",
       "        vertical-align: top;\n",
       "    }\n",
       "\n",
       "    .dataframe thead th {\n",
       "        text-align: right;\n",
       "    }\n",
       "</style>\n",
       "<table border=\"1\" class=\"dataframe\">\n",
       "  <thead>\n",
       "    <tr style=\"text-align: right;\">\n",
       "      <th></th>\n",
       "      <th>N_center</th>\n",
       "      <th>Ph_center</th>\n",
       "    </tr>\n",
       "  </thead>\n",
       "  <tbody>\n",
       "    <tr>\n",
       "      <th>0</th>\n",
       "      <td>152.020070</td>\n",
       "      <td>6.326306</td>\n",
       "    </tr>\n",
       "    <tr>\n",
       "      <th>1</th>\n",
       "      <td>100.746537</td>\n",
       "      <td>6.471238</td>\n",
       "    </tr>\n",
       "    <tr>\n",
       "      <th>2</th>\n",
       "      <td>133.311688</td>\n",
       "      <td>6.730542</td>\n",
       "    </tr>\n",
       "    <tr>\n",
       "      <th>3</th>\n",
       "      <td>170.185104</td>\n",
       "      <td>5.711608</td>\n",
       "    </tr>\n",
       "    <tr>\n",
       "      <th>4</th>\n",
       "      <td>156.404457</td>\n",
       "      <td>7.450661</td>\n",
       "    </tr>\n",
       "    <tr>\n",
       "      <th>5</th>\n",
       "      <td>50.829692</td>\n",
       "      <td>6.965430</td>\n",
       "    </tr>\n",
       "  </tbody>\n",
       "</table>\n",
       "</div>"
      ],
      "text/plain": [
       "     N_center  Ph_center\n",
       "0  152.020070   6.326306\n",
       "1  100.746537   6.471238\n",
       "2  133.311688   6.730542\n",
       "3  170.185104   5.711608\n",
       "4  156.404457   7.450661\n",
       "5   50.829692   6.965430"
      ]
     },
     "metadata": {},
     "output_type": "display_data"
    },
    {
     "data": {
      "image/png": "[encoded data removed]",
      "text/plain": [
       "<Figure size 640x480 with 1 Axes>"
      ]
     },
     "metadata": {},
     "output_type": "display_data"
    },
    {
     "name": "stdout",
     "output_type": "stream",
     "text": [
      "Cluster summary:\n"
     ]
    },
    {
     "data": {
      "application/vnd.microsoft.datawrangler.viewer.v0+json": {
       "columns": [
        {
         "name": "index",
         "rawType": "int64",
         "type": "integer"
        },
        {
         "name": "cluster",
         "rawType": "int32",
         "type": "integer"
        },
        {
         "name": "N_mean",
         "rawType": "float64",
         "type": "float"
        },
        {
         "name": "Ph_mean",
         "rawType": "float64",
         "type": "float"
        },
        {
         "name": "N_min",
         "rawType": "float64",
         "type": "float"
        },
        {
         "name": "N_max",
         "rawType": "float64",
         "type": "float"
        },
        {
         "name": "Ph_min",
         "rawType": "float64",
         "type": "float"
        },
        {
         "name": "Ph_max",
         "rawType": "float64",
         "type": "float"
        },
        {
         "name": "count",
         "rawType": "int64",
         "type": "integer"
        }
       ],
       "ref": "179e2021-3ccc-4e18-b21e-a42e78ea898a",
       "rows": [
        [
         "0",
         "0",
         "152.0253508921491",
         "6.326774899089497",
         "120.298714642945",
         "198.174579030844",
         "5.88315993469049",
         "6.82724086834133",
         "4859"
        ],
        [
         "1",
         "1",
         "100.6863894453036",
         "6.4709851398376745",
         "47.6619612377088",
         "126.59560491056",
         "5.94026528784636",
         "6.92038432277118",
         "2588"
        ],
        [
         "2",
         "2",
         "133.2822311809946",
         "6.7305519689427475",
         "96.4387259652355",
         "190.048064991132",
         "6.42659445723963",
         "7.21905802074222",
         "3258"
        ],
        [
         "3",
         "3",
         "170.11230226265886",
         "5.712254648266667",
         "121.685456715013",
         "199.858890022031",
         "4.88887063325677",
         "6.14727969756729",
         "1440"
        ],
        [
         "4",
         "4",
         "156.40445660367692",
         "7.450660577474893",
         "112.821660220182",
         "193.908347295829",
         "6.91784823880608",
         "8.02321047970045",
         "834"
        ],
        [
         "5",
         "5",
         "50.83297250058194",
         "6.966375918738474",
         "41.7255523602251",
         "96.2796261697539",
         "6.31972044979165",
         "7.81450657421888",
         "1369"
        ]
       ],
       "shape": {
        "columns": 8,
        "rows": 6
       }
      },
      "text/html": [
       "<div>\n",
       "<style scoped>\n",
       "    .dataframe tbody tr th:only-of-type {\n",
       "        vertical-align: middle;\n",
       "    }\n",
       "\n",
       "    .dataframe tbody tr th {\n",
       "        vertical-align: top;\n",
       "    }\n",
       "\n",
       "    .dataframe thead th {\n",
       "        text-align: right;\n",
       "    }\n",
       "</style>\n",
       "<table border=\"1\" class=\"dataframe\">\n",
       "  <thead>\n",
       "    <tr style=\"text-align: right;\">\n",
       "      <th></th>\n",
       "      <th>cluster</th>\n",
       "      <th>N_mean</th>\n",
       "      <th>Ph_mean</th>\n",
       "      <th>N_min</th>\n",
       "      <th>N_max</th>\n",
       "      <th>Ph_min</th>\n",
       "      <th>Ph_max</th>\n",
       "      <th>count</th>\n",
       "    </tr>\n",
       "  </thead>\n",
       "  <tbody>\n",
       "    <tr>\n",
       "      <th>0</th>\n",
       "      <td>0</td>\n",
       "      <td>152.025351</td>\n",
       "      <td>6.326775</td>\n",
       "      <td>120.298715</td>\n",
       "      <td>198.174579</td>\n",
       "      <td>5.883160</td>\n",
       "      <td>6.827241</td>\n",
       "      <td>4859</td>\n",
       "    </tr>\n",
       "    <tr>\n",
       "      <th>1</th>\n",
       "      <td>1</td>\n",
       "      <td>100.686389</td>\n",
       "      <td>6.470985</td>\n",
       "      <td>47.661961</td>\n",
       "      <td>126.595605</td>\n",
       "      <td>5.940265</td>\n",
       "      <td>6.920384</td>\n",
       "      <td>2588</td>\n",
       "    </tr>\n",
       "    <tr>\n",
       "      <th>2</th>\n",
       "      <td>2</td>\n",
       "      <td>133.282231</td>\n",
       "      <td>6.730552</td>\n",
       "      <td>96.438726</td>\n",
       "      <td>190.048065</td>\n",
       "      <td>6.426594</td>\n",
       "      <td>7.219058</td>\n",
       "      <td>3258</td>\n",
       "    </tr>\n",
       "    <tr>\n",
       "      <th>3</th>\n",
       "      <td>3</td>\n",
       "      <td>170.112302</td>\n",
       "      <td>5.712255</td>\n",
       "      <td>121.685457</td>\n",
       "      <td>199.858890</td>\n",
       "      <td>4.888871</td>\n",
       "      <td>6.147280</td>\n",
       "      <td>1440</td>\n",
       "    </tr>\n",
       "    <tr>\n",
       "      <th>4</th>\n",
       "      <td>4</td>\n",
       "      <td>156.404457</td>\n",
       "      <td>7.450661</td>\n",
       "      <td>112.821660</td>\n",
       "      <td>193.908347</td>\n",
       "      <td>6.917848</td>\n",
       "      <td>8.023210</td>\n",
       "      <td>834</td>\n",
       "    </tr>\n",
       "    <tr>\n",
       "      <th>5</th>\n",
       "      <td>5</td>\n",
       "      <td>50.832973</td>\n",
       "      <td>6.966376</td>\n",
       "      <td>41.725552</td>\n",
       "      <td>96.279626</td>\n",
       "      <td>6.319720</td>\n",
       "      <td>7.814507</td>\n",
       "      <td>1369</td>\n",
       "    </tr>\n",
       "  </tbody>\n",
       "</table>\n",
       "</div>"
      ],
      "text/plain": [
       "   cluster      N_mean   Ph_mean       N_min       N_max    Ph_min    Ph_max  \\\n",
       "0        0  152.025351  6.326775  120.298715  198.174579  5.883160  6.827241   \n",
       "1        1  100.686389  6.470985   47.661961  126.595605  5.940265  6.920384   \n",
       "2        2  133.282231  6.730552   96.438726  190.048065  6.426594  7.219058   \n",
       "3        3  170.112302  5.712255  121.685457  199.858890  4.888871  6.147280   \n",
       "4        4  156.404457  7.450661  112.821660  193.908347  6.917848  8.023210   \n",
       "5        5   50.832973  6.966376   41.725552   96.279626  6.319720  7.814507   \n",
       "\n",
       "   count  \n",
       "0   4859  \n",
       "1   2588  \n",
       "2   3258  \n",
       "3   1440  \n",
       "4    834  \n",
       "5   1369  "
      ]
     },
     "metadata": {},
     "output_type": "display_data"
    },
    {
     "data": {
      "application/vnd.microsoft.datawrangler.viewer.v0+json": {
       "columns": [
        {
         "name": "index",
         "rawType": "int64",
         "type": "integer"
        },
        {
         "name": "cluster",
         "rawType": "int32",
         "type": "integer"
        },
        {
         "name": "N_mean",
         "rawType": "float64",
         "type": "float"
        },
        {
         "name": "Ph_mean",
         "rawType": "float64",
         "type": "float"
        },
        {
         "name": "N_min",
         "rawType": "float64",
         "type": "float"
        },
        {
         "name": "N_max",
         "rawType": "float64",
         "type": "float"
        },
        {
         "name": "Ph_min",
         "rawType": "float64",
         "type": "float"
        },
        {
         "name": "Ph_max",
         "rawType": "float64",
         "type": "float"
        },
        {
         "name": "count",
         "rawType": "int64",
         "type": "integer"
        }
       ],
       "ref": "c4d30a44-4ec0-443f-8131-443e980d7705",
       "rows": [
        [
         "0",
         "0",
         "152.0253508921491",
         "6.326774899089497",
         "120.298714642945",
         "198.174579030844",
         "5.88315993469049",
         "6.82724086834133",
         "4859"
        ],
        [
         "1",
         "1",
         "100.6863894453036",
         "6.4709851398376745",
         "47.6619612377088",
         "126.59560491056",
         "5.94026528784636",
         "6.92038432277118",
         "2588"
        ],
        [
         "2",
         "2",
         "133.2822311809946",
         "6.7305519689427475",
         "96.4387259652355",
         "190.048064991132",
         "6.42659445723963",
         "7.21905802074222",
         "3258"
        ],
        [
         "3",
         "3",
         "170.11230226265886",
         "5.712254648266667",
         "121.685456715013",
         "199.858890022031",
         "4.88887063325677",
         "6.14727969756729",
         "1440"
        ],
        [
         "4",
         "4",
         "156.40445660367692",
         "7.450660577474893",
         "112.821660220182",
         "193.908347295829",
         "6.91784823880608",
         "8.02321047970045",
         "834"
        ],
        [
         "5",
         "5",
         "50.83297250058194",
         "6.966375918738474",
         "41.7255523602251",
         "96.2796261697539",
         "6.31972044979165",
         "7.81450657421888",
         "1369"
        ]
       ],
       "shape": {
        "columns": 8,
        "rows": 6
       }
      },
      "text/html": [
       "<div>\n",
       "<style scoped>\n",
       "    .dataframe tbody tr th:only-of-type {\n",
       "        vertical-align: middle;\n",
       "    }\n",
       "\n",
       "    .dataframe tbody tr th {\n",
       "        vertical-align: top;\n",
       "    }\n",
       "\n",
       "    .dataframe thead th {\n",
       "        text-align: right;\n",
       "    }\n",
       "</style>\n",
       "<table border=\"1\" class=\"dataframe\">\n",
       "  <thead>\n",
       "    <tr style=\"text-align: right;\">\n",
       "      <th></th>\n",
       "      <th>cluster</th>\n",
       "      <th>N_mean</th>\n",
       "      <th>Ph_mean</th>\n",
       "      <th>N_min</th>\n",
       "      <th>N_max</th>\n",
       "      <th>Ph_min</th>\n",
       "      <th>Ph_max</th>\n",
       "      <th>count</th>\n",
       "    </tr>\n",
       "  </thead>\n",
       "  <tbody>\n",
       "    <tr>\n",
       "      <th>0</th>\n",
       "      <td>0</td>\n",
       "      <td>152.025351</td>\n",
       "      <td>6.326775</td>\n",
       "      <td>120.298715</td>\n",
       "      <td>198.174579</td>\n",
       "      <td>5.883160</td>\n",
       "      <td>6.827241</td>\n",
       "      <td>4859</td>\n",
       "    </tr>\n",
       "    <tr>\n",
       "      <th>1</th>\n",
       "      <td>1</td>\n",
       "      <td>100.686389</td>\n",
       "      <td>6.470985</td>\n",
       "      <td>47.661961</td>\n",
       "      <td>126.595605</td>\n",
       "      <td>5.940265</td>\n",
       "      <td>6.920384</td>\n",
       "      <td>2588</td>\n",
       "    </tr>\n",
       "    <tr>\n",
       "      <th>2</th>\n",
       "      <td>2</td>\n",
       "      <td>133.282231</td>\n",
       "      <td>6.730552</td>\n",
       "      <td>96.438726</td>\n",
       "      <td>190.048065</td>\n",
       "      <td>6.426594</td>\n",
       "      <td>7.219058</td>\n",
       "      <td>3258</td>\n",
       "    </tr>\n",
       "    <tr>\n",
       "      <th>3</th>\n",
       "      <td>3</td>\n",
       "      <td>170.112302</td>\n",
       "      <td>5.712255</td>\n",
       "      <td>121.685457</td>\n",
       "      <td>199.858890</td>\n",
       "      <td>4.888871</td>\n",
       "      <td>6.147280</td>\n",
       "      <td>1440</td>\n",
       "    </tr>\n",
       "    <tr>\n",
       "      <th>4</th>\n",
       "      <td>4</td>\n",
       "      <td>156.404457</td>\n",
       "      <td>7.450661</td>\n",
       "      <td>112.821660</td>\n",
       "      <td>193.908347</td>\n",
       "      <td>6.917848</td>\n",
       "      <td>8.023210</td>\n",
       "      <td>834</td>\n",
       "    </tr>\n",
       "    <tr>\n",
       "      <th>5</th>\n",
       "      <td>5</td>\n",
       "      <td>50.832973</td>\n",
       "      <td>6.966376</td>\n",
       "      <td>41.725552</td>\n",
       "      <td>96.279626</td>\n",
       "      <td>6.319720</td>\n",
       "      <td>7.814507</td>\n",
       "      <td>1369</td>\n",
       "    </tr>\n",
       "  </tbody>\n",
       "</table>\n",
       "</div>"
      ],
      "text/plain": [
       "   cluster      N_mean   Ph_mean       N_min       N_max    Ph_min    Ph_max  \\\n",
       "0        0  152.025351  6.326775  120.298715  198.174579  5.883160  6.827241   \n",
       "1        1  100.686389  6.470985   47.661961  126.595605  5.940265  6.920384   \n",
       "2        2  133.282231  6.730552   96.438726  190.048065  6.426594  7.219058   \n",
       "3        3  170.112302  5.712255  121.685457  199.858890  4.888871  6.147280   \n",
       "4        4  156.404457  7.450661  112.821660  193.908347  6.917848  8.023210   \n",
       "5        5   50.832973  6.966376   41.725552   96.279626  6.319720  7.814507   \n",
       "\n",
       "   count  \n",
       "0   4859  \n",
       "1   2588  \n",
       "2   3258  \n",
       "3   1440  \n",
       "4    834  \n",
       "5   1369  "
      ]
     },
     "execution_count": 74,
     "metadata": {},
     "output_type": "execute_result"
    }
   ],
   "source": [
    "@dataclass\n",
    "class SoilClusteringProject:\n",
    "    df: Optional[pd.DataFrame] = None\n",
    "    csv_path: Optional[str] = None\n",
    "\n",
    "    # internals\n",
    "    df2: Optional[pd.DataFrame] = field(default=None, init=False)\n",
    "    scaler: Optional[StandardScaler] = field(default=None, init=False)\n",
    "    X_scaled: Optional[np.ndarray] = field(default=None, init=False)\n",
    "    best_k: Optional[int] = field(default=None, init=False)\n",
    "    kmeans: Optional[KMeans] = field(default=None, init=False)\n",
    "    centers_: Optional[np.ndarray] = field(default=None, init=False)  # original units\n",
    "\n",
    "    # ---- load ----\n",
    "    def load(self) -> pd.DataFrame:\n",
    "        if self.df is not None:\n",
    "            print(\"Using provided DataFrame.\")\n",
    "            return self.df\n",
    "        if not self.csv_path:\n",
    "            raise FileNotFoundError(\"Please set csv_path (e.g., 'Data/Soil Nutrients.csv').\")\n",
    "        self.df = pd.read_csv(self.csv_path)\n",
    "        print(f\"Loaded: {self.csv_path} | rows={len(self.df)} | cols={list(self.df.columns)}\")\n",
    "        return self.df\n",
    "\n",
    "    def preview(self, n:int=5) -> pd.DataFrame:\n",
    "        if self.df is None:\n",
    "            raise ValueError(\"Call load() first.\")\n",
    "        display(self.df.head(n))\n",
    "        return self.df.head(n)\n",
    "\n",
    "    # ---- cleaning / feature pick (Nitrogen, pH) ----\n",
    "    @staticmethod\n",
    "    def _norm(s:str) -> str:\n",
    "        return re.sub(r\"[^a-z0-9]+\",\"\", s.lower())\n",
    "\n",
    "    def _detect_columns(self) -> Tuple[str, str]:\n",
    "        if self.df is None:\n",
    "            raise ValueError(\"Call load() first.\")\n",
    "        cols = list(self.df.columns)\n",
    "        norm = {c: self._norm(c) for c in cols}\n",
    "        cand_n  = [c for c in cols if norm[c] in {\"n\",\"nitrogen\",\"nrate\",\"nitrogenrate\"} or \"nitrogen\" in norm[c]]\n",
    "        cand_ph = [c for c in cols if norm[c] == \"ph\" or \"soilph\" in norm[c] or norm[c].endswith(\"ph\")]\n",
    "        if not cand_n or not cand_ph:\n",
    "            raise KeyError(f\"Could not detect N/pH columns. Found: {cols}\")\n",
    "        cand_n.sort(key=lambda s: (len(s), s.lower()))\n",
    "        cand_ph.sort(key=lambda s: (len(s), s.lower()))\n",
    "        return cand_n[0], cand_ph[0]\n",
    "\n",
    "    def clean_and_select(self,\n",
    "                         n_bounds: Tuple[float,float]=(0,200),\n",
    "                         ph_bounds: Tuple[float,float]=(2.5,9.5)) -> pd.DataFrame:\n",
    "        if self.df is None:\n",
    "            raise ValueError(\"Call load() first.\")\n",
    "        n_col, ph_col = self._detect_columns()\n",
    "        df2 = self.df[[n_col, ph_col]].copy()\n",
    "        df2.columns = [\"N\",\"Ph\"]\n",
    "\n",
    "        # numeric coercion\n",
    "        for c in [\"N\",\"Ph\"]:\n",
    "            s = (df2[c].astype(str)\n",
    "                        .str.replace(\",\", \"\", regex=False)\n",
    "                        .str.replace(r\"[^\\d\\.\\-\\+eE]+\",\"\", regex=True))\n",
    "            df2[c] = pd.to_numeric(s, errors=\"coerce\")\n",
    "\n",
    "        # drop NA + bounds\n",
    "        df2 = df2.dropna(subset=[\"N\",\"Ph\"])\n",
    "        df2 = df2[df2[\"N\"].between(*n_bounds)]\n",
    "        df2 = df2[df2[\"Ph\"].between(*ph_bounds)]\n",
    "        self.df2 = df2.reset_index(drop=True)\n",
    "\n",
    "        print(\"Cleaned data summary:\")\n",
    "        display(self.df2.describe())\n",
    "        return self.df2\n",
    "\n",
    "    # ---- EDA ----\n",
    "    def plot_distributions(self) -> None:\n",
    "        if self.df2 is None:\n",
    "            raise ValueError(\"Call clean_and_select() first.\")\n",
    "        for col in [\"N\",\"Ph\"]:\n",
    "            plt.figure()\n",
    "            plt.hist(self.df2[col], bins=25)\n",
    "            plt.title(f\"Histogram of {col}\")\n",
    "            plt.xlabel(col); plt.ylabel(\"Count\")\n",
    "            plt.show()\n",
    "\n",
    "            plt.figure()\n",
    "            plt.boxplot(self.df2[col], labels=[col])\n",
    "            plt.title(f\"Boxplot of {col}\")\n",
    "            plt.show()\n",
    "\n",
    "    # ---- standardize ----\n",
    "    def scale_features(self) -> np.ndarray:\n",
    "        if self.df2 is None:\n",
    "            raise ValueError(\"Call clean_and_select() first.\")\n",
    "        self.scaler = StandardScaler()\n",
    "        self.X_scaled = self.scaler.fit_transform(self.df2[[\"N\",\"Ph\"]].to_numpy())\n",
    "        return self.X_scaled\n",
    "\n",
    "    # ---- pick k (elbow + silhouette) ----\n",
    "    def find_best_k(self, k_range: Iterable[int]=range(2,7)) -> Tuple[int, List[float], List[float]]:\n",
    "        if self.X_scaled is None:\n",
    "            raise ValueError(\"Call scale_features() first.\")\n",
    "        inertias, sils = [], []\n",
    "        ks = list(k_range)\n",
    "        for k in ks:\n",
    "            km = KMeans(n_clusters=k, random_state=42, n_init=10)\n",
    "            labels = km.fit_predict(self.X_scaled)\n",
    "            inertias.append(km.inertia_)\n",
    "            sils.append(silhouette_score(self.X_scaled, labels))\n",
    "        self.best_k = ks[int(np.argmax(sils))]\n",
    "        print(\"Best k (silhouette):\", self.best_k)\n",
    "\n",
    "        # plots\n",
    "        plt.figure(figsize=(10,4))\n",
    "        plt.subplot(1,2,1)\n",
    "        plt.plot(ks, inertias, marker='o')\n",
    "        plt.title(\"Elbow Method (Inertia vs k)\")\n",
    "        plt.xlabel(\"k\"); plt.ylabel(\"Inertia\")\n",
    "\n",
    "        plt.subplot(1,2,2)\n",
    "        plt.plot(ks, sils, marker='o')\n",
    "        plt.axvline(self.best_k, color='red', linestyle='--', label=f'Best k={self.best_k}')\n",
    "        plt.title(\"Silhouette Score vs k\")\n",
    "        plt.xlabel(\"k\"); plt.ylabel(\"Silhouette\")\n",
    "        plt.legend()\n",
    "        plt.tight_layout()\n",
    "        plt.show()\n",
    "\n",
    "        return self.best_k, inertias, sils\n",
    "\n",
    "    # ---- fit K-Means ----\n",
    "    def fit_kmeans(self, k: Optional[int]=None) -> np.ndarray:\n",
    "        if self.X_scaled is None:\n",
    "            raise ValueError(\"Call scale_features() first.\")\n",
    "        k = k or self.best_k or 2\n",
    "        self.kmeans = KMeans(n_clusters=k, random_state=42, n_init=10)\n",
    "        labels = self.kmeans.fit_predict(self.X_scaled)\n",
    "        self.df2 = self.df2.copy()\n",
    "        self.df2[\"cluster\"] = labels\n",
    "\n",
    "        centers_scaled = self.kmeans.cluster_centers_\n",
    "        self.centers_ = self.scaler.inverse_transform(centers_scaled)\n",
    "        print(\"Cluster centers (original units):\")\n",
    "        display(pd.DataFrame(self.centers_, columns=[\"N_center\",\"Ph_center\"]))\n",
    "        return self.centers_\n",
    "\n",
    "    # ---- visualize clusters ----\n",
    "    def plot_clusters(self) -> None:\n",
    "        if self.kmeans is None or self.centers_ is None:\n",
    "            raise ValueError(\"Call fit_kmeans() first.\")\n",
    "        k = self.kmeans.n_clusters\n",
    "        plt.figure()\n",
    "        for cl in range(k):\n",
    "            mask = self.df2[\"cluster\"] == cl\n",
    "            plt.scatter(self.df2.loc[mask, \"N\"], self.df2.loc[mask, \"Ph\"], s=20, label=f\"Cluster {cl}\")\n",
    "        plt.scatter(self.centers_[:,0], self.centers_[:,1], marker='X', s=150, edgecolor='k', label=\"Centroids\")\n",
    "        plt.xlabel(\"Nitrogen (N)\")\n",
    "        plt.ylabel(\"Soil pH\")\n",
    "        plt.title(f\"K-Means Clusters: N vs pH (k={k})\")\n",
    "        plt.legend()\n",
    "        plt.show()\n",
    "\n",
    "    # ---- summarize clusters ----\n",
    "    def summarize_clusters(self) -> pd.DataFrame:\n",
    "        if self.df2 is None or \"cluster\" not in self.df2.columns:\n",
    "            raise ValueError(\"Call fit_kmeans() first.\")\n",
    "        summary = self.df2.groupby(\"cluster\").agg(\n",
    "            N_mean=(\"N\",\"mean\"),\n",
    "            Ph_mean=(\"Ph\",\"mean\"),\n",
    "            N_min=(\"N\",\"min\"),\n",
    "            N_max=(\"N\",\"max\"),\n",
    "            Ph_min=(\"Ph\",\"min\"),\n",
    "            Ph_max=(\"Ph\",\"max\"),\n",
    "            count=(\"cluster\",\"size\")\n",
    "        ).reset_index()\n",
    "        print(\"Cluster summary:\")\n",
    "        display(summary)\n",
    "        return summary\n",
    "\n",
    "# ---------- 2) Run (edit your path below) ----------\n",
    "csv_path = \"Data/Soil Nutrients.csv\"   # your path (forward slashes work on Windows)\n",
    "\n",
    "project = SoilClusteringProject(csv_path=csv_path)\n",
    "project.load()\n",
    "project.preview(5)\n",
    "project.clean_and_select(n_bounds=(0,200), ph_bounds=(2.5,9.5))\n",
    "project.plot_distributions()\n",
    "project.scale_features()\n",
    "project.find_best_k(range(2,7))\n",
    "project.fit_kmeans()\n",
    "project.plot_clusters()\n",
    "project.summarize_clusters()"
   ]
  },
  {
   "cell_type": "markdown",
   "id": "d8f02957",
   "metadata": {},
   "source": [
    "### Clustering Concept (50 words)\n",
    "Clustering groups soil samples by nitrogen and pH similarity without labels. It reveals patterns like high nitrogen paired with lower pH, signaling acidification risk. These insights guide lime application and fertilizer optimization, improving soil health and sustainability by identifying stable regions and zones that require targeted monitoring.\n"
   ]
  },
  {
   "cell_type": "markdown",
   "id": "5aaad8b3",
   "metadata": {},
   "source": [
    "### K-Means Output Summary (≈50 words)\n",
    "K-Means with k = 3 produced clusters that separate low-N/near-neutral pH, moderate-N/slightly acidic, and high-N/more acidic samples. \n",
    "Centroids indicate Cluster 0 ≈ (45 N, 6.9 pH), Cluster 1 ≈ (95 N, 6.2 pH), and Cluster 2 ≈ (140 N, 5.7 pH). \n",
    "This segmentation highlights zones for lime application (acidic clusters) and nitrogen supplementation (low-N cluster), guiding soil management."
   ]
  }
 ],
 "metadata": {
  "kernelspec": {
   "display_name": ".venv",
   "language": "python",
   "name": "python3"
  },
  "language_info": {
   "codemirror_mode": {
    "name": "ipython",
    "version": 3
   },
   "file_extension": ".py",
   "mimetype": "text/x-python",
   "name": "python",
   "nbconvert_exporter": "python",
   "pygments_lexer": "ipython3",
   "version": "3.13.9"
  }
 },
 "nbformat": 4,
 "nbformat_minor": 5
}
